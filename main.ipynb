{
 "cells": [
  {
   "cell_type": "markdown",
   "metadata": {},
   "source": [
    "# **Configuração Inicial**"
   ]
  },
  {
   "cell_type": "markdown",
   "metadata": {},
   "source": [
    "## Importação das bibliotecas"
   ]
  },
  {
   "cell_type": "code",
   "execution_count": 66,
   "metadata": {},
   "outputs": [],
   "source": [
    "# Importação das bibliotecas e funções a serem utilizadas no códigos.\n",
    "from pyspark.sql import SparkSession\n",
    "from datetime import datetime"
   ]
  },
  {
   "cell_type": "markdown",
   "metadata": {},
   "source": [
    "## Criando a sessão do Spark"
   ]
  },
  {
   "cell_type": "code",
   "execution_count": 74,
   "metadata": {},
   "outputs": [],
   "source": [
    "# Criando a sessão do Spark.\n",
    "spark = SparkSession.builder \\\n",
    "    .master(\"local\") \\\n",
    "    .appName(\"MongoDB\") \\\n",
    "    .config(\"spark.mongodb.read.connection.uri\", \"mongodb://localhost:27017/ProjetoPMD\") \\\n",
    "    .config(\"spark.mongodb.write.connection.uri\", \"mongodb://localhost:27017/ProjetoPMD\") \\\n",
    "    .getOrCreate()\n",
    "    "
   ]
  },
  {
   "cell_type": "markdown",
   "metadata": {},
   "source": [
    "# **Testes de Conexão**"
   ]
  },
  {
   "cell_type": "markdown",
   "metadata": {},
   "source": [
    "## Testando Operação de Leitura"
   ]
  },
  {
   "cell_type": "code",
   "execution_count": 75,
   "metadata": {},
   "outputs": [],
   "source": [
    "# Lendo o banco de dados no mongoDB em um dataframe.\n",
    "df = spark.read.format(\"mongodb\")\\\n",
    "    .option(\"uri\", \"mongodb://localhost:27017/\")\\\n",
    "    .option(\"database\", \"ProjetoPMD\")\\\n",
    "    .option(\"collection\", \"itineraries\")\\\n",
    "    .load()"
   ]
  },
  {
   "cell_type": "code",
   "execution_count": 76,
   "metadata": {},
   "outputs": [
    {
     "name": "stdout",
     "output_type": "stream",
     "text": [
      "+--------------------+--------+------------------+-----------+-------------+-------------------+--------------+---------+------------+--------------------+-------------------+--------------+-------------------+--------------------+--------------------------+-------------------------------+----------------------+-----------------+----------------------------+---------------------------------+------------------------+----------------+-------------------------+----------------------------+---------------+---------+-------------------+--------------+\n",
      "|                 _id|baseFare|destinationAirport|elapsedDays|fareBasisCode|         flightDate|isBasicEconomy|isNonStop|isRefundable|               legId|         searchDate|seatsRemaining|segmentsAirlineCode| segmentsAirlineName|segmentsArrivalAirportCode|segmentsArrivalTimeEpochSeconds|segmentsArrivalTimeRaw|segmentsCabinCode|segmentsDepartureAirportCode|segmentsDepartureTimeEpochSeconds|segmentsDepartureTimeRaw|segmentsDistance|segmentsDurationInSeconds|segmentsEquipmentDescription|startingAirport|totalFare|totalTravelDistance|travelDuration|\n",
      "+--------------------+--------+------------------+-----------+-------------+-------------------+--------------+---------+------------+--------------------+-------------------+--------------+-------------------+--------------------+--------------------------+-------------------------------+----------------------+-----------------+----------------------------+---------------------------------+------------------------+----------------+-------------------------+----------------------------+---------------+---------+-------------------+--------------+\n",
      "|66c0dae320b6784bc...|  217.67|               BOS|          0|     LA0NX0MC|2022-04-16 21:00:00|         false|     true|       false|9ca0e81111c683bec...|2022-04-15 21:00:00|             9|                 DL|               Delta|                       BOS|                     1650223560|  2022-04-17T19:26:00Z|            coach|                         ATL|                       1650214620|    2022-04-17T16:57:00Z|             947|                     8940|                 Airbus A321|            ATL|    248.6|                947|       PT2H29M|\n",
      "|66c0dae320b6784bc...|  217.67|               BOS|          0|     LA0NX0MC|2022-04-16 21:00:00|         false|     true|       false|98685953630e772a0...|2022-04-15 21:00:00|             4|                 DL|               Delta|                       BOS|                     1650200400|  2022-04-17T13:00:00Z|            coach|                         ATL|                       1650191400|    2022-04-17T10:30:00Z|             947|                     9000|                 Airbus A321|            ATL|    248.6|                947|       PT2H30M|\n",
      "|66c0dae320b6784bc...|  217.67|               BOS|          0|     LA0NX0MC|2022-04-16 21:00:00|         false|     true|       false|98d90cbc32bfbb05c...|2022-04-15 21:00:00|             9|                 DL|               Delta|                       BOS|                     1650218700|  2022-04-17T18:05:00Z|            coach|                         ATL|                       1650209700|    2022-04-17T15:35:00Z|             947|                     9000|              Boeing 757-200|            ATL|    248.6|                947|       PT2H30M|\n",
      "|66c0dae320b6784bc...|  217.67|               BOS|          0|     LA0NX0MC|2022-04-16 21:00:00|         false|     true|       false|969a269d38eae583f...|2022-04-15 21:00:00|             8|                 DL|               Delta|                       BOS|                     1650227460|  2022-04-17T20:31:00Z|            coach|                         ATL|                       1650218340|    2022-04-17T17:59:00Z|             947|                     9120|                 Airbus A321|            ATL|    248.6|                947|       PT2H32M|\n",
      "|66c0dae320b6784bc...|  217.67|               BOS|          0|     LA0NX0MC|2022-04-16 21:00:00|         false|     true|       false|980370cf27c89b40d...|2022-04-15 21:00:00|             9|                 DL|               Delta|                       BOS|                     1650213180|  2022-04-17T16:33:00Z|            coach|                         ATL|                       1650203940|    2022-04-17T13:59:00Z|             947|                     9240|                 Airbus A321|            ATL|    248.6|                947|       PT2H34M|\n",
      "|66c0dae320b6784bc...|  217.67|               BOS|          0|     VH0AUEL1|2022-04-16 21:00:00|         false|     true|       false|79eda9f841e226a1e...|2022-04-15 21:00:00|             7|                 B6|     JetBlue Airways|                       BOS|                     1650216180|  2022-04-17T17:23:00Z|            coach|                         ATL|                       1650206700|    2022-04-17T14:45:00Z|             947|                     9480|                        null|            ATL|    248.6|                947|       PT2H38M|\n",
      "|66c0dae320b6784bc...|  213.02|               BOS|          0|     V0AJZNN1|2022-04-16 21:00:00|         false|    false|       false|9335fae376c38bb61...|2022-04-15 21:00:00|             3|             AA||AA|American Airlines...|                  CLT||BOS|           1650203400||16502...|  2022-04-17T09:50:...|     coach||coach|                    ATL||CLT|             1650198000||16502...|    2022-04-17T08:20:...|        228||728|               5400||7500|        Airbus A320||Airb...|            ATL|    251.1|                956|       PT4H12M|\n",
      "|66c0dae320b6784bc...|  213.02|               BOS|          0|     V0AJZNN1|2022-04-16 21:00:00|         false|    false|       false|3904bf87f2d1daf33...|2022-04-15 21:00:00|             3|             AA||AA|American Airlines...|                  CLT||BOS|           1650203400||16502...|  2022-04-17T09:50:...|     coach||coach|                    ATL||CLT|             1650198000||16502...|    2022-04-17T08:20:...|        228||728|               5400||8280|        Airbus A320||Boei...|            ATL|    251.1|                956|       PT5H18M|\n",
      "|66c0dae320b6784bc...|  213.02|               BOS|          0|     V0AJZNN1|2022-04-16 21:00:00|         false|    false|       false|d93988734c44a3c07...|2022-04-15 21:00:00|             7|             AA||AA|American Airlines...|                  CLT||BOS|           1650198060||16502...|  2022-04-17T08:21:...|     coach||coach|                    ATL||CLT|             1650193200||16502...|    2022-04-17T07:00:...|        228||728|               4860||7500|        Airbus A319||Airb...|            ATL|    251.1|                956|       PT5H32M|\n",
      "|66c0dae320b6784bc...|  213.02|               BOS|          0|     V0AJZNN1|2022-04-16 21:00:00|         false|    false|       false|562e7d5dd6ecbf150...|2022-04-15 21:00:00|             7|             AA||AA|American Airlines...|                  CLT||BOS|           1650198060||16502...|  2022-04-17T08:21:...|     coach||coach|                    ATL||CLT|             1650193200||16502...|    2022-04-17T07:00:...|        228||728|               4860||8280|        Airbus A319||Boei...|            ATL|    251.1|                956|       PT6H38M|\n",
      "|66c0dae320b6784bc...|  213.02|               BOS|          0|     VAA0AKEN|2022-04-16 21:00:00|         false|    false|       false|c38a6e4b807d15541...|2022-04-15 21:00:00|             1|             UA||UA|      United||United|                  IAD||BOS|           1650194280||16502...|  2022-04-17T07:18:...|     coach||coach|                    ATL||IAD|             1650187800||16501...|    2022-04-17T05:30:...|        541||406|               6480||5940|        Airbus A319||Boei...|            ATL|    252.6|                947|       PT4H46M|\n",
      "|66c0dae320b6784bc...|  213.02|               BOS|          0|     V0AJZNN1|2022-04-16 21:00:00|         false|    false|       false|f66d72ba3a5265766...|2022-04-15 21:00:00|             3|             AA||AA|American Airlines...|                  ORD||BOS|           1650228840||16502...|  2022-04-17T15:54:...|     coach||coach|                    ATL||ORD|             1650220740||16502...|    2022-04-17T14:39:...|        600||862|               8100||8340|        Embraer 175||Boei...|            ATL|    252.6|               1462|       PT5H45M|\n",
      "|66c0dae320b6784bc...|  213.02|               BOS|          0|     V0AJZNN1|2022-04-16 21:00:00|         false|    false|       false|e7c4054e85cca9bc7...|2022-04-15 21:00:00|             5|             AA||AA|American Airlines...|                  ORD||BOS|           1650240660||16502...|  2022-04-17T19:11:...|     coach||coach|                    ATL||ORD|             1650232800||16502...|    2022-04-17T18:00:...|        600||862|               7860||8640|        Embraer 175||Boei...|            ATL|    252.6|               1462|       PT5H59M|\n",
      "|66c0dae320b6784bc...|  213.02|               BOS|          0|     V0AJZNN1|2022-04-16 21:00:00|         false|    false|       false|5fa8c0f8b25eb24bf...|2022-04-15 21:00:00|             3|             AA||AA|American Airlines...|                  ORD||BOS|           1650228840||16502...|  2022-04-17T15:54:...|     coach||coach|                    ATL||ORD|             1650220740||16502...|    2022-04-17T14:39:...|        600||862|               8100||7920|        Embraer 175||Airb...|            ATL|    252.6|               1462|       PT7H18M|\n",
      "|66c0dae320b6784bc...|  213.02|               BOS|          0|     VAA0AKEN|2022-04-16 21:00:00|         false|    false|       false|948d26b3e5658762c...|2022-04-15 21:00:00|             2|             UA||UA|      United||United|                  ORD||BOS|           1650198000||16502...|  2022-04-17T07:20:...|     coach||coach|                    ATL||ORD|             1650190200||16502...|    2022-04-17T06:10:...|        600||862|               7800||8640|        Embraer 175 (Enha...|            ATL|    252.6|               1462|       PT8H10M|\n",
      "|66c0dae320b6784bc...|   183.0|               BOS|          0|          VNR|2022-04-16 21:00:00|         false|    false|       false|cb345693479e84838...|2022-04-15 21:00:00|             0|             NK||NK|Spirit Airlines||...|                  FLL||BOS|           1650194400||16502...|  2022-04-17T07:20:...|     coach||coach|                    ATL||FLL|             1650187560||16501...|    2022-04-17T05:26:...|      None||None|              6840||11100|        AIRBUS INDUSTRIE ...|            ATL|   290.58|               null|       PT5H39M|\n",
      "|66c0dae320b6784bc...|  265.58|               BOS|          0|     KH0AUEY5|2022-04-16 21:00:00|         false|     true|       false|e1b95e4e6c997517f...|2022-04-15 21:00:00|             7|                 AA|   American Airlines|                       BOS|                     1650216180|  2022-04-17T17:23:00Z|            coach|                         ATL|                       1650206700|    2022-04-17T14:45:00Z|             947|                     9480|                        null|            ATL|    300.1|                947|       PT2H38M|\n",
      "|66c0dae320b6784bc...|  260.47|               BOS|          0|     L0AJZNN1|2022-04-16 21:00:00|         false|    false|       false|eaf033a044596f0a7...|2022-04-15 21:00:00|             1|             AA||AA|American Airlines...|                  CLT||BOS|           1650238620||16502...|  2022-04-17T19:37:...|     coach||coach|                    ATL||CLT|             1650233700||16502...|    2022-04-17T18:15:...|        228||728|               4920||7620|        Canadian Regional...|            ATL|   302.11|                956|       PT4H17M|\n",
      "|66c0dae320b6784bc...|  260.47|               BOS|          0|     L0AJZNN1|2022-04-16 21:00:00|         false|    false|       false|721d9a2f66fe479e7...|2022-04-15 21:00:00|             1|             AA||AA|American Airlines...|                  CLT||BOS|           1650212880||16502...|  2022-04-17T12:28:...|     coach||coach|                    ATL||CLT|             1650207720||16502...|    2022-04-17T11:02:...|        228||728|               5160||7860|        Canadair Regional...|            ATL|   302.11|                956|       PT4H36M|\n",
      "|66c0dae320b6784bc...|  260.47|               BOS|          0|     L0AJZNN1|2022-04-16 21:00:00|         false|    false|       false|a9f012defb9227f69...|2022-04-15 21:00:00|             1|             AA||AA|American Airlines...|                  CLT||BOS|           1650230760||16502...|  2022-04-17T17:26:...|     coach||coach|                    ATL||CLT|             1650226680||16502...|    2022-04-17T16:18:...|        228||728|               4080||7860|        Airbus A319||Boei...|            ATL|   302.11|                956|       PT4H45M|\n",
      "+--------------------+--------+------------------+-----------+-------------+-------------------+--------------+---------+------------+--------------------+-------------------+--------------+-------------------+--------------------+--------------------------+-------------------------------+----------------------+-----------------+----------------------------+---------------------------------+------------------------+----------------+-------------------------+----------------------------+---------------+---------+-------------------+--------------+\n",
      "only showing top 20 rows\n",
      "\n"
     ]
    }
   ],
   "source": [
    "# Visualização do dataframe carregado a partir do mongoDB.\n",
    "df.show()"
   ]
  },
  {
   "cell_type": "markdown",
   "metadata": {},
   "source": [
    "## Testando Operação de Escrita"
   ]
  },
  {
   "cell_type": "code",
   "execution_count": 71,
   "metadata": {},
   "outputs": [],
   "source": [
    "# Definindo o schema do novo registro.\n",
    "schema = df.schema\n",
    "\n",
    "# Definindo os dados para o novo registro.\n",
    "data = [\n",
    "    {\n",
    "        \"_id\": \"a1\",\n",
    "        \"baseFare\": 260.47,\n",
    "        \"destinationAirport\": \"BOS\",\n",
    "        \"elapsedDays\": 0,\n",
    "        \"fareBasisCode\": \"L0AJZNN1\",\n",
    "        \"flightDate\": datetime.fromisoformat(\"2022-04-17T00:00:00\"),\n",
    "        \"isBasicEconomy\": False,\n",
    "        \"isNonStop\": False,\n",
    "        \"isRefundable\": False,\n",
    "        \"legId\": \"721d9a2f66fe479e7c17b13e7ae0bb15\",\n",
    "        \"searchDate\": datetime.fromisoformat(\"2022-04-16T00:00:00\"),\n",
    "        \"seatsRemaining\": 1,\n",
    "        \"segmentsAirlineCode\": \"AA||AA\",\n",
    "        \"segmentsAirlineName\": \"American Airlines||American Airlines\",\n",
    "        \"segmentsArrivalAirportCode\": \"CLT||BOS\",\n",
    "        \"segmentsArrivalTimeEpochSeconds\": \"1650212880||1650224280\",\n",
    "        \"segmentsArrivalTimeRaw\": \"2022-04-17 12:28:00||2022-04-17 15:38:00\",\n",
    "        \"segmentsCabinCode\": None,\n",
    "        \"segmentsDepartureAirportCode\": \"ATL||CLT\",\n",
    "        \"segmentsDepartureTimeEpochSeconds\": \"1650207720||1650216420\",\n",
    "        \"segmentsDepartureTimeRaw\": \"2022-04-17 11:02:00||2022-04-17 13:27:00\",\n",
    "        \"segmentsDistance\": None,\n",
    "        \"segmentsDurationInSeconds\": None,\n",
    "        \"segmentsEquipmentDescription\": \"Canadair Regional Jet 900||Airbus A321\",\n",
    "        \"startingAirport\": \"ATL\",\n",
    "        \"totalFare\": 302.11,\n",
    "        \"totalTravelDistance\": 956,\n",
    "        \"travelDuration\": \"PT4H36M\"\n",
    "    }\n",
    "]"
   ]
  },
  {
   "cell_type": "code",
   "execution_count": 72,
   "metadata": {},
   "outputs": [],
   "source": [
    "# Criando um dataframe do spark dos dados criados anteriormente.\n",
    "new_df = spark.createDataFrame(data, schema=schema)\n",
    "\n",
    "# Adicionando esse registro no database.\n",
    "new_df.write.format(\"mongodb\") \\\n",
    "    .mode(\"append\") \\\n",
    "    .option(\"database\", \"ProjetoPMD\") \\\n",
    "    .option(\"collection\", \"itineraries\") \\\n",
    "    .save()"
   ]
  },
  {
   "cell_type": "code",
   "execution_count": 73,
   "metadata": {},
   "outputs": [
    {
     "name": "stderr",
     "output_type": "stream",
     "text": [
      "UsageError: Line magic function `%use` not found.\n"
     ]
    }
   ],
   "source": [
    "# Para remoção do registro adicionado anteriormente, porém, o uso deve ser no terminal mongosh do próprio mongoDB.\n",
    "%use ProjetoPMD\n",
    "%db.itineraries.deleteOne({ _id: \"a1\" })"
   ]
  },
  {
   "cell_type": "code",
   "execution_count": null,
   "metadata": {},
   "outputs": [],
   "source": [
    "# Para finalizar a sessão do spark\n",
    "spark.stop()"
   ]
  }
 ],
 "metadata": {
  "kernelspec": {
   "display_name": "Python 3",
   "language": "python",
   "name": "python3"
  },
  "language_info": {
   "codemirror_mode": {
    "name": "ipython",
    "version": 3
   },
   "file_extension": ".py",
   "mimetype": "text/x-python",
   "name": "python",
   "nbconvert_exporter": "python",
   "pygments_lexer": "ipython3",
   "version": "3.11.4"
  }
 },
 "nbformat": 4,
 "nbformat_minor": 2
}
