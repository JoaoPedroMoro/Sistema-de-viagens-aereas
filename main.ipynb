{
 "cells": [
  {
   "cell_type": "markdown",
   "metadata": {},
   "source": [
    "# **Configuração Inicial**"
   ]
  },
  {
   "cell_type": "markdown",
   "metadata": {},
   "source": [
    "## Importação das bibliotecas"
   ]
  },
  {
   "cell_type": "code",
   "execution_count": 55,
   "metadata": {},
   "outputs": [],
   "source": [
    "# Importação das bibliotecas e funções a serem utilizadas no códigos.\n",
    "import random\n",
    "import datetime as dt\n",
    "import db_connector as db\n",
    "from pyspark.ml.feature import Bucketizer\n",
    "from pyspark.sql.functions import explode, udf, arrays_zip, col\n",
    "from pyspark.sql.types import IntegerType, ArrayType, StringType, DateType"
   ]
  },
  {
   "cell_type": "markdown",
   "metadata": {},
   "source": [
    "# **Testes de Conexão**"
   ]
  },
  {
   "cell_type": "markdown",
   "metadata": {},
   "source": [
    "## Testando Operação de Leitura"
   ]
  },
  {
   "cell_type": "code",
   "execution_count": 2,
   "metadata": {},
   "outputs": [
    {
     "name": "stdout",
     "output_type": "stream",
     "text": [
      "+--------------------+--------+------------------+-----------+-------------+-------------------+--------------+---------+------------+--------------------+-------------------+--------------+-------------------+--------------------+--------------------------+-------------------------------+----------------------+-----------------+----------------------------+---------------------------------+------------------------+----------------+-------------------------+----------------------------+---------------+---------+-------------------+--------------+\n",
      "|                 _id|baseFare|destinationAirport|elapsedDays|fareBasisCode|         flightDate|isBasicEconomy|isNonStop|isRefundable|               legId|         searchDate|seatsRemaining|segmentsAirlineCode| segmentsAirlineName|segmentsArrivalAirportCode|segmentsArrivalTimeEpochSeconds|segmentsArrivalTimeRaw|segmentsCabinCode|segmentsDepartureAirportCode|segmentsDepartureTimeEpochSeconds|segmentsDepartureTimeRaw|segmentsDistance|segmentsDurationInSeconds|segmentsEquipmentDescription|startingAirport|totalFare|totalTravelDistance|travelDuration|\n",
      "+--------------------+--------+------------------+-----------+-------------+-------------------+--------------+---------+------------+--------------------+-------------------+--------------+-------------------+--------------------+--------------------------+-------------------------------+----------------------+-----------------+----------------------------+---------------------------------+------------------------+----------------+-------------------------+----------------------------+---------------+---------+-------------------+--------------+\n",
      "|66c4cb5db568d637c...|  217.67|               BOS|          0|     LA0NX0MC|2022-04-16 21:00:00|         false|     true|       false|9ca0e81111c683bec...|2022-04-15 21:00:00|             9|                 DL|               Delta|                       BOS|                     1650223560|  2022-04-17T19:26:00Z|            coach|                         ATL|                       1650214620|    2022-04-17T16:57:00Z|             947|                     8940|                 Airbus A321|            ATL|    248.6|                947|       PT2H29M|\n",
      "|66c4cb5db568d637c...|  217.67|               BOS|          0|     LA0NX0MC|2022-04-16 21:00:00|         false|     true|       false|98685953630e772a0...|2022-04-15 21:00:00|             4|                 DL|               Delta|                       BOS|                     1650200400|  2022-04-17T13:00:00Z|            coach|                         ATL|                       1650191400|    2022-04-17T10:30:00Z|             947|                     9000|                 Airbus A321|            ATL|    248.6|                947|       PT2H30M|\n",
      "|66c4cb5db568d637c...|  217.67|               BOS|          0|     LA0NX0MC|2022-04-16 21:00:00|         false|     true|       false|98d90cbc32bfbb05c...|2022-04-15 21:00:00|             9|                 DL|               Delta|                       BOS|                     1650218700|  2022-04-17T18:05:00Z|            coach|                         ATL|                       1650209700|    2022-04-17T15:35:00Z|             947|                     9000|              Boeing 757-200|            ATL|    248.6|                947|       PT2H30M|\n",
      "|66c4cb5db568d637c...|  217.67|               BOS|          0|     LA0NX0MC|2022-04-16 21:00:00|         false|     true|       false|969a269d38eae583f...|2022-04-15 21:00:00|             8|                 DL|               Delta|                       BOS|                     1650227460|  2022-04-17T20:31:00Z|            coach|                         ATL|                       1650218340|    2022-04-17T17:59:00Z|             947|                     9120|                 Airbus A321|            ATL|    248.6|                947|       PT2H32M|\n",
      "|66c4cb5db568d637c...|  217.67|               BOS|          0|     LA0NX0MC|2022-04-16 21:00:00|         false|     true|       false|980370cf27c89b40d...|2022-04-15 21:00:00|             9|                 DL|               Delta|                       BOS|                     1650213180|  2022-04-17T16:33:00Z|            coach|                         ATL|                       1650203940|    2022-04-17T13:59:00Z|             947|                     9240|                 Airbus A321|            ATL|    248.6|                947|       PT2H34M|\n",
      "|66c4cb5db568d637c...|  217.67|               BOS|          0|     VH0AUEL1|2022-04-16 21:00:00|         false|     true|       false|79eda9f841e226a1e...|2022-04-15 21:00:00|             7|                 B6|     JetBlue Airways|                       BOS|                     1650216180|  2022-04-17T17:23:00Z|            coach|                         ATL|                       1650206700|    2022-04-17T14:45:00Z|             947|                     9480|                        null|            ATL|    248.6|                947|       PT2H38M|\n",
      "|66c4cb5db568d637c...|  213.02|               BOS|          0|     V0AJZNN1|2022-04-16 21:00:00|         false|    false|       false|9335fae376c38bb61...|2022-04-15 21:00:00|             3|             AA||AA|American Airlines...|                  CLT||BOS|           1650203400||16502...|  2022-04-17T09:50:...|     coach||coach|                    ATL||CLT|             1650198000||16502...|    2022-04-17T08:20:...|        228||728|               5400||7500|        Airbus A320||Airb...|            ATL|    251.1|                956|       PT4H12M|\n",
      "|66c4cb5db568d637c...|  213.02|               BOS|          0|     V0AJZNN1|2022-04-16 21:00:00|         false|    false|       false|3904bf87f2d1daf33...|2022-04-15 21:00:00|             3|             AA||AA|American Airlines...|                  CLT||BOS|           1650203400||16502...|  2022-04-17T09:50:...|     coach||coach|                    ATL||CLT|             1650198000||16502...|    2022-04-17T08:20:...|        228||728|               5400||8280|        Airbus A320||Boei...|            ATL|    251.1|                956|       PT5H18M|\n",
      "|66c4cb5db568d637c...|  213.02|               BOS|          0|     V0AJZNN1|2022-04-16 21:00:00|         false|    false|       false|d93988734c44a3c07...|2022-04-15 21:00:00|             7|             AA||AA|American Airlines...|                  CLT||BOS|           1650198060||16502...|  2022-04-17T08:21:...|     coach||coach|                    ATL||CLT|             1650193200||16502...|    2022-04-17T07:00:...|        228||728|               4860||7500|        Airbus A319||Airb...|            ATL|    251.1|                956|       PT5H32M|\n",
      "|66c4cb5db568d637c...|  213.02|               BOS|          0|     V0AJZNN1|2022-04-16 21:00:00|         false|    false|       false|562e7d5dd6ecbf150...|2022-04-15 21:00:00|             7|             AA||AA|American Airlines...|                  CLT||BOS|           1650198060||16502...|  2022-04-17T08:21:...|     coach||coach|                    ATL||CLT|             1650193200||16502...|    2022-04-17T07:00:...|        228||728|               4860||8280|        Airbus A319||Boei...|            ATL|    251.1|                956|       PT6H38M|\n",
      "|66c4cb5db568d637c...|  213.02|               BOS|          0|     VAA0AKEN|2022-04-16 21:00:00|         false|    false|       false|c38a6e4b807d15541...|2022-04-15 21:00:00|             1|             UA||UA|      United||United|                  IAD||BOS|           1650194280||16502...|  2022-04-17T07:18:...|     coach||coach|                    ATL||IAD|             1650187800||16501...|    2022-04-17T05:30:...|        541||406|               6480||5940|        Airbus A319||Boei...|            ATL|    252.6|                947|       PT4H46M|\n",
      "|66c4cb5db568d637c...|  213.02|               BOS|          0|     V0AJZNN1|2022-04-16 21:00:00|         false|    false|       false|f66d72ba3a5265766...|2022-04-15 21:00:00|             3|             AA||AA|American Airlines...|                  ORD||BOS|           1650228840||16502...|  2022-04-17T15:54:...|     coach||coach|                    ATL||ORD|             1650220740||16502...|    2022-04-17T14:39:...|        600||862|               8100||8340|        Embraer 175||Boei...|            ATL|    252.6|               1462|       PT5H45M|\n",
      "|66c4cb5db568d637c...|  213.02|               BOS|          0|     V0AJZNN1|2022-04-16 21:00:00|         false|    false|       false|e7c4054e85cca9bc7...|2022-04-15 21:00:00|             5|             AA||AA|American Airlines...|                  ORD||BOS|           1650240660||16502...|  2022-04-17T19:11:...|     coach||coach|                    ATL||ORD|             1650232800||16502...|    2022-04-17T18:00:...|        600||862|               7860||8640|        Embraer 175||Boei...|            ATL|    252.6|               1462|       PT5H59M|\n",
      "|66c4cb5db568d637c...|  213.02|               BOS|          0|     V0AJZNN1|2022-04-16 21:00:00|         false|    false|       false|5fa8c0f8b25eb24bf...|2022-04-15 21:00:00|             3|             AA||AA|American Airlines...|                  ORD||BOS|           1650228840||16502...|  2022-04-17T15:54:...|     coach||coach|                    ATL||ORD|             1650220740||16502...|    2022-04-17T14:39:...|        600||862|               8100||7920|        Embraer 175||Airb...|            ATL|    252.6|               1462|       PT7H18M|\n",
      "|66c4cb5db568d637c...|  213.02|               BOS|          0|     VAA0AKEN|2022-04-16 21:00:00|         false|    false|       false|948d26b3e5658762c...|2022-04-15 21:00:00|             2|             UA||UA|      United||United|                  ORD||BOS|           1650198000||16502...|  2022-04-17T07:20:...|     coach||coach|                    ATL||ORD|             1650190200||16502...|    2022-04-17T06:10:...|        600||862|               7800||8640|        Embraer 175 (Enha...|            ATL|    252.6|               1462|       PT8H10M|\n",
      "|66c4cb5db568d637c...|   183.0|               BOS|          0|          VNR|2022-04-16 21:00:00|         false|    false|       false|cb345693479e84838...|2022-04-15 21:00:00|             0|             NK||NK|Spirit Airlines||...|                  FLL||BOS|           1650194400||16502...|  2022-04-17T07:20:...|     coach||coach|                    ATL||FLL|             1650187560||16501...|    2022-04-17T05:26:...|      None||None|              6840||11100|        AIRBUS INDUSTRIE ...|            ATL|   290.58|               null|       PT5H39M|\n",
      "|66c4cb5db568d637c...|  265.58|               BOS|          0|     KH0AUEY5|2022-04-16 21:00:00|         false|     true|       false|e1b95e4e6c997517f...|2022-04-15 21:00:00|             7|                 AA|   American Airlines|                       BOS|                     1650216180|  2022-04-17T17:23:00Z|            coach|                         ATL|                       1650206700|    2022-04-17T14:45:00Z|             947|                     9480|                        null|            ATL|    300.1|                947|       PT2H38M|\n",
      "|66c4cb5db568d637c...|  260.47|               BOS|          0|     L0AJZNN1|2022-04-16 21:00:00|         false|    false|       false|eaf033a044596f0a7...|2022-04-15 21:00:00|             1|             AA||AA|American Airlines...|                  CLT||BOS|           1650238620||16502...|  2022-04-17T19:37:...|     coach||coach|                    ATL||CLT|             1650233700||16502...|    2022-04-17T18:15:...|        228||728|               4920||7620|        Canadian Regional...|            ATL|   302.11|                956|       PT4H17M|\n",
      "|66c4cb5db568d637c...|  260.47|               BOS|          0|     L0AJZNN1|2022-04-16 21:00:00|         false|    false|       false|721d9a2f66fe479e7...|2022-04-15 21:00:00|             1|             AA||AA|American Airlines...|                  CLT||BOS|           1650212880||16502...|  2022-04-17T12:28:...|     coach||coach|                    ATL||CLT|             1650207720||16502...|    2022-04-17T11:02:...|        228||728|               5160||7860|        Canadair Regional...|            ATL|   302.11|                956|       PT4H36M|\n",
      "|66c4cb5db568d637c...|  260.47|               BOS|          0|     L0AJZNN1|2022-04-16 21:00:00|         false|    false|       false|a9f012defb9227f69...|2022-04-15 21:00:00|             1|             AA||AA|American Airlines...|                  CLT||BOS|           1650230760||16502...|  2022-04-17T17:26:...|     coach||coach|                    ATL||CLT|             1650226680||16502...|    2022-04-17T16:18:...|        228||728|               4080||7860|        Airbus A319||Boei...|            ATL|   302.11|                956|       PT4H45M|\n",
      "+--------------------+--------+------------------+-----------+-------------+-------------------+--------------+---------+------------+--------------------+-------------------+--------------+-------------------+--------------------+--------------------------+-------------------------------+----------------------+-----------------+----------------------------+---------------------------------+------------------------+----------------+-------------------------+----------------------------+---------------+---------+-------------------+--------------+\n",
      "only showing top 20 rows\n",
      "\n"
     ]
    }
   ],
   "source": [
    "s = db.spark_conn()\n",
    "df = s.read()\n",
    "df.show()\n",
    "s.stop_session()"
   ]
  },
  {
   "cell_type": "markdown",
   "metadata": {},
   "source": [
    "## Testando Operação de Escrita"
   ]
  },
  {
   "cell_type": "code",
   "execution_count": 71,
   "metadata": {},
   "outputs": [],
   "source": [
    "s = db.spark_conn()\n",
    "df = s.read()\n",
    "\n",
    "# Definindo o schema do novo registro.\n",
    "schema = df.schema\n",
    "\n",
    "# Definindo os dados para o novo registro.\n",
    "data = [\n",
    "    {\n",
    "        \"_id\": \"a1\",\n",
    "        \"baseFare\": 260.47,\n",
    "        \"destinationAirport\": \"BOS\",\n",
    "        \"elapsedDays\": 0,\n",
    "        \"fareBasisCode\": \"L0AJZNN1\",\n",
    "        \"flightDate\": datetime.fromisoformat(\"2022-04-17T00:00:00\"),\n",
    "        \"isBasicEconomy\": False,\n",
    "        \"isNonStop\": False,\n",
    "        \"isRefundable\": False,\n",
    "        \"legId\": \"721d9a2f66fe479e7c17b13e7ae0bb15\",\n",
    "        \"searchDate\": datetime.fromisoformat(\"2022-04-16T00:00:00\"),\n",
    "        \"seatsRemaining\": 1,\n",
    "        \"segmentsAirlineCode\": \"AA||AA\",\n",
    "        \"segmentsAirlineName\": \"American Airlines||American Airlines\",\n",
    "        \"segmentsArrivalAirportCode\": \"CLT||BOS\",\n",
    "        \"segmentsArrivalTimeEpochSeconds\": \"1650212880||1650224280\",\n",
    "        \"segmentsArrivalTimeRaw\": \"2022-04-17 12:28:00||2022-04-17 15:38:00\",\n",
    "        \"segmentsCabinCode\": None,\n",
    "        \"segmentsDepartureAirportCode\": \"ATL||CLT\",\n",
    "        \"segmentsDepartureTimeEpochSeconds\": \"1650207720||1650216420\",\n",
    "        \"segmentsDepartureTimeRaw\": \"2022-04-17 11:02:00||2022-04-17 13:27:00\",\n",
    "        \"segmentsDistance\": None,\n",
    "        \"segmentsDurationInSeconds\": None,\n",
    "        \"segmentsEquipmentDescription\": \"Canadair Regional Jet 900||Airbus A321\",\n",
    "        \"startingAirport\": \"ATL\",\n",
    "        \"totalFare\": 302.11,\n",
    "        \"totalTravelDistance\": 956,\n",
    "        \"travelDuration\": \"PT4H36M\"\n",
    "    }\n",
    "]\n",
    "\n",
    "new_df = s.session.createDataFrame(data, schema=schema)\n",
    "\n",
    "s.write(new_df)\n",
    "\n",
    "s.stop_session()"
   ]
  },
  {
   "cell_type": "markdown",
   "metadata": {},
   "source": [
    "Para remoção do registro adicionado anteriormente, porém, o uso deve ser no terminal mongosh do próprio mongoDB.\n",
    "\n",
    "- `%use ProjetoPMD`\n",
    "- `%db.itineraries.deleteOne({ _id: \"a1\" })`"
   ]
  },
  {
   "cell_type": "markdown",
   "metadata": {},
   "source": [
    "# **Consulta 01**"
   ]
  },
  {
   "cell_type": "markdown",
   "metadata": {},
   "source": [
    "## Enunciado"
   ]
  },
  {
   "cell_type": "markdown",
   "metadata": {},
   "source": [
    "Partindo de um determinado aeroporto, com base nas informações coletadas nos 3 meses anteriores e num raio Y de milhas do aeroporto, listar a quantidade de voos para cada um dos aeroportos atendidos por ele, o preço médio da passagem e a duração média desses voos, além de mostrar quais foram as empresas aérea em operação."
   ]
  },
  {
   "cell_type": "markdown",
   "metadata": {},
   "source": [
    "## Execução"
   ]
  },
  {
   "cell_type": "code",
   "execution_count": 2,
   "metadata": {},
   "outputs": [],
   "source": [
    "s = db.spark_conn()\n",
    "\n",
    "df = s.read(columns=[\n",
    "    \"flightDate\",\n",
    "    \"totalTravelDistance\",\n",
    "    \"startingAirport\",\n",
    "    \"destinationAirport\",\n",
    "    \"totalFare\",\n",
    "    \"travelDuration\",\n",
    "    \"segmentsAirlineName\"\n",
    "    ])\n",
    "\n",
    "df = df.limit(5)\n",
    "\n",
    "df.write.parquet(\"tmp/q1.parquet\",mode=\"overwrite\")\n",
    "\n",
    "s.stop_session()"
   ]
  },
  {
   "cell_type": "code",
   "execution_count": 63,
   "metadata": {},
   "outputs": [
    {
     "data": {
      "text/plain": [
       "93755"
      ]
     },
     "metadata": {},
     "output_type": "display_data"
    }
   ],
   "source": [
    "s = db.spark_conn()\n",
    "\n",
    "df = s.session.read.parquet(\"tmp/consulta1.parquet\").dropna(how=\"any\")\n",
    "\n",
    "display(df.count())"
   ]
  },
  {
   "cell_type": "code",
   "execution_count": 64,
   "metadata": {},
   "outputs": [
    {
     "name": "stdout",
     "output_type": "stream",
     "text": [
      "+----------+---------------+------------------+--------------+---------+-------------------+--------------------+\n",
      "|flightDate|startingAirport|destinationAirport|travelDuration|totalFare|totalTravelDistance| segmentsAirlineName|\n",
      "+----------+---------------+------------------+--------------+---------+-------------------+--------------------+\n",
      "|2022-06-11|            JFK|               ORD|        PT4H2M|    267.6|              721.0|American Airlines...|\n",
      "|2022-05-12|            LGA|               LAX|       PT7H50M|    387.6|             2465.0|      United||United|\n",
      "|2022-05-01|            LAX|               JFK|       PT5H32M|    408.6|             2458.0|     JetBlue Airways|\n",
      "|2022-05-24|            CLT|               PHL|       PT9H12M|    258.7|              454.0|American Airlines...|\n",
      "|2022-05-25|            JFK|               ATL|       PT2H26M|    128.6|              762.0|   American Airlines|\n",
      "|2022-04-21|            LAX|               ORD|       PT7H43M|    581.6|             2206.0|Alaska Airlines||...|\n",
      "|2022-04-22|            DTW|               SFO|       PT7H24M|    567.6|             2119.0|        Delta||Delta|\n",
      "|2022-06-01|            DFW|               ORD|       PT2H27M|    259.6|              799.0|   American Airlines|\n",
      "|2022-05-04|            JFK|               DEN|      PT11H36M|   567.21|             1969.0|       Delta||United|\n",
      "|2022-05-10|            BOS|               DEN|       PT4H40M|    113.6|             1763.0|              United|\n",
      "|2022-06-05|            EWR|               ATL|       PT2H21M|    228.6|              762.0|              United|\n",
      "|2022-06-09|            LAX|               MIA|      PT11H20M|    644.2|             2341.0|      United||United|\n",
      "|2022-05-23|            JFK|               ORD|      PT11H20M|   475.71|             1137.0|       Delta||United|\n",
      "|2022-05-28|            JFK|               DEN|       PT4H53M|    181.1|             1621.0|   American Airlines|\n",
      "|2022-05-25|            MIA|               BOS|       PT3H19M|    188.6|             1260.0|     JetBlue Airways|\n",
      "|2022-04-22|            DEN|               LGA|       PT5H26M|    377.6|             1623.0|American Airlines...|\n",
      "|2022-05-20|            ATL|               LGA|       PT2H21M|    258.6|              762.0|     JetBlue Airways|\n",
      "|2022-04-27|            LGA|               MIA|       PT7H55M|    127.6|             1345.0|American Airlines...|\n",
      "|2022-05-03|            LGA|               OAK|      PT13H25M|    477.1|             2960.0| Delta||Delta||Delta|\n",
      "|2022-05-14|            SFO|               PHL|      PT13H59M|    464.2|             2521.0|      United||United|\n",
      "+----------+---------------+------------------+--------------+---------+-------------------+--------------------+\n",
      "only showing top 20 rows\n",
      "\n"
     ]
    },
    {
     "data": {
      "text/plain": [
       "'LAX'"
      ]
     },
     "metadata": {},
     "output_type": "display_data"
    }
   ],
   "source": [
    "airport_list = df.select(df.startingAirport.alias(\"code\")).distinct().collect()\n",
    "start_airport = random.choice(airport_list).code\n",
    "mile_range = 1500\n",
    "\n",
    "today = dt.datetime.strptime(\"2022-10-05\",'%Y-%m-%d').date()\n",
    "margin = dt.timedelta(days=180)\n",
    "\n",
    "date = udf(lambda x:  dt.datetime.strptime(x,'%Y-%m-%d').date(), DateType())\n",
    "df = df.withColumn(\"flightDate\", date(df.flightDate))\n",
    "\n",
    "df.show()\n",
    "\n",
    "display(start_airport)"
   ]
  },
  {
   "cell_type": "code",
   "execution_count": 65,
   "metadata": {},
   "outputs": [
    {
     "name": "stdout",
     "output_type": "stream",
     "text": [
      "+----------+-------------------+---------------+------------------+---------+--------------+--------------------+\n",
      "|flightDate|totalTravelDistance|startingAirport|destinationAirport|totalFare|travelDuration| segmentsAirlineName|\n",
      "+----------+-------------------+---------------+------------------+---------+--------------+--------------------+\n",
      "|2022-05-24|              339.0|            LAX|               SFO|     93.6|       PT1H36M|   American Airlines|\n",
      "|2022-04-24|              339.0|            LAX|               SFO|    158.6|       PT1H18M|               Delta|\n",
      "|2022-05-30|              827.0|            LAX|               DEN|    232.6|       PT2H16M|              United|\n",
      "|2022-05-17|              339.0|            LAX|               SFO|   208.61|       PT1H24M|     Alaska Airlines|\n",
      "|2022-05-01|              346.0|            LAX|               SFO|    451.6|       PT5H58M|      United||United|\n",
      "|2022-05-16|             1419.0|            LAX|               DFW|    203.6|       PT5H47M|American Airlines...|\n",
      "|2022-05-29|             1363.0|            LAX|               DFW|    153.6|       PT6H41M|American Airlines...|\n",
      "|2022-05-22|              848.0|            LAX|               DEN|    128.6|       PT2H18M|     Alaska Airlines|\n",
      "|2022-04-26|              848.0|            LAX|               DEN|    153.6|       PT2H27M|   American Airlines|\n",
      "|2022-05-30|             1215.0|            LAX|               DFW|   305.59|       PT2H59M|   American Airlines|\n",
      "|2022-04-20|              339.0|            LAX|               SFO|    153.6|       PT1H26M|   American Airlines|\n",
      "|2022-05-18|              848.0|            LAX|               DEN|    158.6|       PT2H20M|              United|\n",
      "|2022-06-10|             1215.0|            LAX|               DFW|    310.6|       PT2H59M|   American Airlines|\n",
      "|2022-04-21|              339.0|            LAX|               SFO|    438.6|       PT1H26M|   American Airlines|\n",
      "|2022-06-03|              339.0|            LAX|               SFO|    318.6|       PT1H23M|   American Airlines|\n",
      "|2022-05-22|              339.0|            LAX|               SFO|   208.61|       PT1H22M|     Alaska Airlines|\n",
      "|2022-04-19|              351.0|            LAX|               SFO|    358.6|       PT1H33M|              United|\n",
      "|2022-05-16|              339.0|            LAX|               SFO|    248.6|       PT1H21M|               Delta|\n",
      "|2022-06-01|              339.0|            LAX|               SFO|    188.6|       PT1H33M|   American Airlines|\n",
      "|2022-05-29|             1238.0|            LAX|               DFW|   254.61|          PT3H|   American Airlines|\n",
      "+----------+-------------------+---------------+------------------+---------+--------------+--------------------+\n",
      "only showing top 20 rows\n",
      "\n"
     ]
    }
   ],
   "source": [
    "data = df.select(\n",
    "        df.flightDate,\n",
    "        df.totalTravelDistance,\n",
    "        df.startingAirport,\n",
    "        df.destinationAirport,\n",
    "        df.totalFare,\n",
    "        df.travelDuration,\n",
    "        df.segmentsAirlineName\n",
    "    ) \\\n",
    "    .filter(\n",
    "        (df.startingAirport == start_airport) & (df.totalTravelDistance < mile_range) \\\n",
    "        & (today - margin <= df.flightDate) & (df.flightDate <= today + margin)\n",
    "    )\n",
    "\n",
    "data.show()"
   ]
  },
  {
   "cell_type": "markdown",
   "metadata": {},
   "source": [
    "# **Consulta 02**"
   ]
  },
  {
   "cell_type": "markdown",
   "metadata": {},
   "source": [
    "## Enunciado"
   ]
  },
  {
   "cell_type": "markdown",
   "metadata": {},
   "source": [
    "Listar o preço médio por distância viajada de cada empresa aérea, agrupando por intervalos de distância a cada 500 milhas e separando as viagens entre econômica e não econômica."
   ]
  },
  {
   "cell_type": "markdown",
   "metadata": {},
   "source": [
    "## Execução"
   ]
  },
  {
   "cell_type": "code",
   "execution_count": 2,
   "metadata": {},
   "outputs": [],
   "source": [
    "s = db.spark_conn()\n",
    "\n",
    "df = s.read(columns=[\n",
    "    \"segmentsAirlineName\",\n",
    "    \"segmentsDistance\",\n",
    "    \"isBasicEconomy\",\n",
    "    \"totalFare\"\n",
    "    ])\n",
    "\n",
    "df = df.limit(5)\n",
    "\n",
    "df.write.parquet(\"tmp/q2.parquet\",mode=\"overwrite\")\n",
    "\n",
    "s.stop_session()"
   ]
  },
  {
   "cell_type": "code",
   "execution_count": 14,
   "metadata": {},
   "outputs": [
    {
     "data": {
      "text/plain": [
       "100000"
      ]
     },
     "metadata": {},
     "output_type": "display_data"
    }
   ],
   "source": [
    "s = db.spark_conn()\n",
    "\n",
    "df = s.session.read.parquet(\"tmp/consulta2.parquet\")\n",
    "\n",
    "display(df.count())"
   ]
  },
  {
   "cell_type": "code",
   "execution_count": 15,
   "metadata": {},
   "outputs": [
    {
     "name": "stdout",
     "output_type": "stream",
     "text": [
      "+-----------------+--------+--------------+---------+\n",
      "|         airlines|distance|isBasicEconomy|totalFare|\n",
      "+-----------------+--------+--------------+---------+\n",
      "|           United|     351|   Non-Economy|    472.1|\n",
      "|           United|    2566|   Non-Economy|    472.1|\n",
      "|           United|     185|   Non-Economy|    472.1|\n",
      "|Frontier Airlines|    1346|   Non-Economy|   123.98|\n",
      "|           United|     221|   Non-Economy|    237.6|\n",
      "|           United|     327|   Non-Economy|    237.6|\n",
      "|  JetBlue Airways|     720|   Non-Economy|    126.6|\n",
      "|  JetBlue Airways|    1104|   Non-Economy|    126.6|\n",
      "|American Airlines|     327|   Non-Economy|    451.1|\n",
      "|American Airlines|     545|   Non-Economy|    451.1|\n",
      "|  Alaska Airlines|     672|   Non-Economy|    589.6|\n",
      "|  Alaska Airlines|     956|   Non-Economy|    589.6|\n",
      "|American Airlines|    2566|   Non-Economy|    181.6|\n",
      "|           United|    2458|   Non-Economy|    398.6|\n",
      "|American Airlines|     652|   Non-Economy|    226.1|\n",
      "|American Airlines|     728|   Non-Economy|    226.1|\n",
      "|American Airlines|     280|   Non-Economy|    138.6|\n",
      "|  Alaska Airlines|    2372|   Non-Economy|    712.7|\n",
      "|  Alaska Airlines|     130|   Non-Economy|    712.7|\n",
      "|  Alaska Airlines|     543|   Non-Economy|    712.7|\n",
      "+-----------------+--------+--------------+---------+\n",
      "only showing top 20 rows\n",
      "\n"
     ]
    }
   ],
   "source": [
    "splitUDF = udf(lambda x: x.split(\"||\") if x is not None else None, ArrayType(StringType()))\n",
    "\n",
    "def categorize(x):\n",
    "   if x is not None:\n",
    "      if x == \"true\": return \"Economy\"\n",
    "      else: return \"Non-Economy\"\n",
    "   return \"Not Informed\"\n",
    "\n",
    "categorizeUDF = udf(lambda x: categorize(x), StringType())\n",
    "\n",
    "\n",
    "data = df.withColumn(\"tmp\",arrays_zip(splitUDF(df.segmentsAirlineName),splitUDF(df.segmentsDistance))) \\\n",
    "   .withColumn(\"tmp\", explode(\"tmp\")) \\\n",
    "   .select(\n",
    "      col(\"tmp.0\").alias(\"airlines\"),\n",
    "      col(\"tmp.1\").cast(IntegerType()).alias(\"distance\"),\n",
    "      df.isBasicEconomy,\n",
    "      df.totalFare\n",
    "   ).dropna(how=\"any\")\n",
    "\n",
    "data = data.withColumn(\"isBasicEconomy\", categorizeUDF(df.isBasicEconomy))\n",
    "\n",
    "data.show()"
   ]
  },
  {
   "cell_type": "code",
   "execution_count": 16,
   "metadata": {},
   "outputs": [
    {
     "name": "stdout",
     "output_type": "stream",
     "text": [
      "+-----------------+--------+--------------+---------+------------+----------------+\n",
      "|         airlines|distance|isBasicEconomy|totalFare|bucket_value|distance_bracket|\n",
      "+-----------------+--------+--------------+---------+------------+----------------+\n",
      "|           United|     351|   Non-Economy|    472.1|         0.0|           0-500|\n",
      "|           United|    2566|   Non-Economy|    472.1|         5.0|       2500-3000|\n",
      "|           United|     185|   Non-Economy|    472.1|         0.0|           0-500|\n",
      "|Frontier Airlines|    1346|   Non-Economy|   123.98|         2.0|       1000-1500|\n",
      "|           United|     221|   Non-Economy|    237.6|         0.0|           0-500|\n",
      "|           United|     327|   Non-Economy|    237.6|         0.0|           0-500|\n",
      "|  JetBlue Airways|     720|   Non-Economy|    126.6|         1.0|        500-1000|\n",
      "|  JetBlue Airways|    1104|   Non-Economy|    126.6|         2.0|       1000-1500|\n",
      "|American Airlines|     327|   Non-Economy|    451.1|         0.0|           0-500|\n",
      "|American Airlines|     545|   Non-Economy|    451.1|         1.0|        500-1000|\n",
      "|  Alaska Airlines|     672|   Non-Economy|    589.6|         1.0|        500-1000|\n",
      "|  Alaska Airlines|     956|   Non-Economy|    589.6|         1.0|        500-1000|\n",
      "|American Airlines|    2566|   Non-Economy|    181.6|         5.0|       2500-3000|\n",
      "|           United|    2458|   Non-Economy|    398.6|         4.0|       2000-2500|\n",
      "|American Airlines|     652|   Non-Economy|    226.1|         1.0|        500-1000|\n",
      "|American Airlines|     728|   Non-Economy|    226.1|         1.0|        500-1000|\n",
      "|American Airlines|     280|   Non-Economy|    138.6|         0.0|           0-500|\n",
      "|  Alaska Airlines|    2372|   Non-Economy|    712.7|         4.0|       2000-2500|\n",
      "|  Alaska Airlines|     130|   Non-Economy|    712.7|         0.0|           0-500|\n",
      "|  Alaska Airlines|     543|   Non-Economy|    712.7|         1.0|        500-1000|\n",
      "+-----------------+--------+--------------+---------+------------+----------------+\n",
      "only showing top 20 rows\n",
      "\n"
     ]
    }
   ],
   "source": [
    "bucketizer = Bucketizer(\n",
    "    splits=[0,500,1000,1500,2000,2500,3000],\n",
    "    inputCol='distance', \n",
    "    outputCol='bucket_value'\n",
    ")\n",
    "\n",
    "data = bucketizer.transform(data)\n",
    "\n",
    "split_arr = bucketizer.getSplits()\n",
    "format_udf = udf(lambda x:f'{int(split_arr[int(x)])}-{int(split_arr[int(x)+1])}',StringType())\n",
    "\n",
    "data = data.withColumn('distance_bracket',format_udf('bucket_value'))\n",
    "data.show()"
   ]
  },
  {
   "cell_type": "code",
   "execution_count": 17,
   "metadata": {},
   "outputs": [
    {
     "name": "stdout",
     "output_type": "stream",
     "text": [
      "+-----------------+----------------+-----------+-------------------+\n",
      "|         airlines|distance_bracket|      Class|                avg|\n",
      "+-----------------+----------------+-----------+-------------------+\n",
      "|  Alaska Airlines|           0-500|Non-Economy| 1.9231913765436064|\n",
      "|  Alaska Airlines|       1000-1500|Non-Economy| 0.6914865230818955|\n",
      "|  Alaska Airlines|       1500-2000|Non-Economy| 0.4674941358192032|\n",
      "|  Alaska Airlines|       2000-2500|Non-Economy| 0.2993224917426374|\n",
      "|  Alaska Airlines|       2500-3000|Non-Economy|0.17886947802758577|\n",
      "|  Alaska Airlines|        500-1000|Non-Economy| 0.8953961729973997|\n",
      "|American Airlines|           0-500|Non-Economy| 0.8869010449701806|\n",
      "|American Airlines|       1000-1500|Non-Economy|0.24894315118512392|\n",
      "|American Airlines|       1500-2000|Non-Economy| 0.2353284502868487|\n",
      "|American Airlines|       2000-2500|Non-Economy|0.18808732267770625|\n",
      "|American Airlines|       2500-3000|Non-Economy|0.17167785285376908|\n",
      "|American Airlines|        500-1000|Non-Economy|0.41124956623052855|\n",
      "|     Boutique Air|           0-500|Non-Economy| 1.3653524379979265|\n",
      "|         Cape Air|           0-500|Non-Economy|  4.213027259805021|\n",
      "| Contour Airlines|           0-500|Non-Economy| 1.3187945205479452|\n",
      "|            Delta|           0-500|Non-Economy|  1.290942278373069|\n",
      "|            Delta|       1000-1500|Non-Economy|0.31446883113135643|\n",
      "|            Delta|       1500-2000|Non-Economy|  0.259977786895995|\n",
      "|            Delta|       2000-2500|Non-Economy|0.23106685818603181|\n",
      "|            Delta|       2500-3000|Non-Economy| 0.1626544049073791|\n",
      "+-----------------+----------------+-----------+-------------------+\n",
      "only showing top 20 rows\n",
      "\n"
     ]
    }
   ],
   "source": [
    "data = data.groupBy(\"airlines\",\"distance_bracket\",\"isBasicEconomy\").sum(\"distance\",\"totalFare\")\n",
    "data = data.withColumn(\"avg\",col(\"sum(totalFare)\")/col(\"sum(distance)\")).select(\n",
    "    data.airlines,\n",
    "    data.distance_bracket,\n",
    "    data.isBasicEconomy.alias(\"Class\"),\n",
    "    col(\"avg\")\n",
    "    ).sort(\"airlines\",\"distance_bracket\")\n",
    "data.show()"
   ]
  },
  {
   "cell_type": "code",
   "execution_count": 18,
   "metadata": {},
   "outputs": [],
   "source": [
    "s.stop_session()"
   ]
  }
 ],
 "metadata": {
  "kernelspec": {
   "display_name": "Python 3",
   "language": "python",
   "name": "python3"
  },
  "language_info": {
   "codemirror_mode": {
    "name": "ipython",
    "version": 3
   },
   "file_extension": ".py",
   "mimetype": "text/x-python",
   "name": "python",
   "nbconvert_exporter": "python",
   "pygments_lexer": "ipython3",
   "version": "3.10.6"
  }
 },
 "nbformat": 4,
 "nbformat_minor": 2
}
